{
    "cells": [
        {
            "cell_type": "code",
            "execution_count": 1,
            "metadata": {},
            "outputs": [
                {
                    "data": {
                        "text/html": "<div>\n<style scoped>\n    .dataframe tbody tr th:only-of-type {\n        vertical-align: middle;\n    }\n\n    .dataframe tbody tr th {\n        vertical-align: top;\n    }\n\n    .dataframe thead th {\n        text-align: right;\n    }\n</style>\n<table border=\"1\" class=\"dataframe\">\n  <thead>\n    <tr style=\"text-align: right;\">\n      <th></th>\n      <th>ID</th>\n      <th>best_seller</th>\n      <th>price</th>\n      <th>image</th>\n      <th>bracelet</th>\n      <th>ring</th>\n      <th>necklace</th>\n      <th>earring</th>\n      <th>choker</th>\n      <th>pendant</th>\n      <th>...</th>\n      <th>sapphires</th>\n      <th>agate</th>\n      <th>quartzite</th>\n      <th>gemstones</th>\n      <th>spinel</th>\n      <th>onyx</th>\n      <th>gem_sum</th>\n      <th>diamonds</th>\n      <th>ruby</th>\n      <th>cry_sum</th>\n    </tr>\n  </thead>\n  <tbody>\n    <tr>\n      <th>0</th>\n      <td>0</td>\n      <td>1</td>\n      <td>SR485</td>\n      <td>['https://cdn.tous.com/media/catalog/product/c...</td>\n      <td>0</td>\n      <td>1</td>\n      <td>0</td>\n      <td>1</td>\n      <td>0</td>\n      <td>0</td>\n      <td>...</td>\n      <td>0</td>\n      <td>0</td>\n      <td>0</td>\n      <td>0</td>\n      <td>0</td>\n      <td>0</td>\n      <td>1</td>\n      <td>0</td>\n      <td>0</td>\n      <td>0</td>\n    </tr>\n    <tr>\n      <th>1</th>\n      <td>1</td>\n      <td>1</td>\n      <td>SR620</td>\n      <td>['https://cdn.tous.com/media/catalog/product/c...</td>\n      <td>0</td>\n      <td>1</td>\n      <td>0</td>\n      <td>1</td>\n      <td>0</td>\n      <td>0</td>\n      <td>...</td>\n      <td>0</td>\n      <td>0</td>\n      <td>0</td>\n      <td>0</td>\n      <td>0</td>\n      <td>0</td>\n      <td>1</td>\n      <td>0</td>\n      <td>0</td>\n      <td>0</td>\n    </tr>\n    <tr>\n      <th>2</th>\n      <td>2</td>\n      <td>1</td>\n      <td>SR370</td>\n      <td>['https://cdn.tous.com/media/catalog/product/c...</td>\n      <td>0</td>\n      <td>1</td>\n      <td>0</td>\n      <td>1</td>\n      <td>0</td>\n      <td>0</td>\n      <td>...</td>\n      <td>0</td>\n      <td>0</td>\n      <td>0</td>\n      <td>0</td>\n      <td>0</td>\n      <td>0</td>\n      <td>0</td>\n      <td>0</td>\n      <td>0</td>\n      <td>0</td>\n    </tr>\n    <tr>\n      <th>3</th>\n      <td>3</td>\n      <td>1</td>\n      <td>SR370</td>\n      <td>['https://cdn.tous.com/media/catalog/product/c...</td>\n      <td>0</td>\n      <td>0</td>\n      <td>0</td>\n      <td>0</td>\n      <td>0</td>\n      <td>1</td>\n      <td>...</td>\n      <td>0</td>\n      <td>0</td>\n      <td>0</td>\n      <td>0</td>\n      <td>0</td>\n      <td>0</td>\n      <td>0</td>\n      <td>0</td>\n      <td>0</td>\n      <td>0</td>\n    </tr>\n    <tr>\n      <th>4</th>\n      <td>4</td>\n      <td>1</td>\n      <td>SR1,300</td>\n      <td>['https://cdn.tous.com/media/catalog/product/c...</td>\n      <td>0</td>\n      <td>1</td>\n      <td>0</td>\n      <td>1</td>\n      <td>0</td>\n      <td>0</td>\n      <td>...</td>\n      <td>0</td>\n      <td>0</td>\n      <td>0</td>\n      <td>0</td>\n      <td>0</td>\n      <td>0</td>\n      <td>1</td>\n      <td>0</td>\n      <td>0</td>\n      <td>0</td>\n    </tr>\n  </tbody>\n</table>\n<p>5 rows \u00d7 44 columns</p>\n</div>",
                        "text/plain": "   ID  best_seller    price  \\\n0   0            1    SR485   \n1   1            1    SR620   \n2   2            1    SR370   \n3   3            1    SR370   \n4   4            1  SR1,300   \n\n                                               image  bracelet  ring  \\\n0  ['https://cdn.tous.com/media/catalog/product/c...         0     1   \n1  ['https://cdn.tous.com/media/catalog/product/c...         0     1   \n2  ['https://cdn.tous.com/media/catalog/product/c...         0     1   \n3  ['https://cdn.tous.com/media/catalog/product/c...         0     0   \n4  ['https://cdn.tous.com/media/catalog/product/c...         0     1   \n\n   necklace  earring  choker  pendant  ...  sapphires  agate  quartzite  \\\n0         0        1       0        0  ...          0      0          0   \n1         0        1       0        0  ...          0      0          0   \n2         0        1       0        0  ...          0      0          0   \n3         0        0       0        1  ...          0      0          0   \n4         0        1       0        0  ...          0      0          0   \n\n   gemstones  spinel  onyx  gem_sum  diamonds  ruby  cry_sum  \n0          0       0     0        1         0     0        0  \n1          0       0     0        1         0     0        0  \n2          0       0     0        0         0     0        0  \n3          0       0     0        0         0     0        0  \n4          0       0     0        1         0     0        0  \n\n[5 rows x 44 columns]"
                    },
                    "execution_count": 1,
                    "metadata": {},
                    "output_type": "execute_result"
                }
            ],
            "source": "# The code was removed by Watson Studio for sharing."
        },
        {
            "cell_type": "code",
            "execution_count": null,
            "metadata": {},
            "outputs": [],
            "source": ""
        }
    ],
    "metadata": {
        "kernelspec": {
            "display_name": "Python 3.6",
            "language": "python",
            "name": "python3"
        },
        "language_info": {
            "codemirror_mode": {
                "name": "ipython",
                "version": 3
            },
            "file_extension": ".py",
            "mimetype": "text/x-python",
            "name": "python",
            "nbconvert_exporter": "python",
            "pygments_lexer": "ipython3",
            "version": "3.6.8"
        }
    },
    "nbformat": 4,
    "nbformat_minor": 1
}